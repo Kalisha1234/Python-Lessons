{
  "nbformat": 4,
  "nbformat_minor": 0,
  "metadata": {
    "colab": {
      "provenance": [],
      "authorship_tag": "ABX9TyPOsqPF6wRkNOgpLIHIXz91",
      "include_colab_link": true
    },
    "kernelspec": {
      "name": "python3",
      "display_name": "Python 3"
    },
    "language_info": {
      "name": "python"
    }
  },
  "cells": [
    {
      "cell_type": "markdown",
      "metadata": {
        "id": "view-in-github",
        "colab_type": "text"
      },
      "source": [
        "<a href=\"https://colab.research.google.com/github/Kalisha1234/Python-Lessons/blob/main/rollingDieipynb.ipynb\" target=\"_parent\"><img src=\"https://colab.research.google.com/assets/colab-badge.svg\" alt=\"Open In Colab\"/></a>"
      ]
    },
    {
      "cell_type": "code",
      "execution_count": 3,
      "metadata": {
        "colab": {
          "base_uri": "https://localhost:8080/"
        },
        "id": "s6Q7MMk8xBMf",
        "outputId": "121e2c6c-2ca1-478f-cede-9ebbb3ba5e0a"
      },
      "outputs": [
        {
          "output_type": "stream",
          "name": "stdout",
          "text": [
            "The die rolled a: 6\n"
          ]
        }
      ],
      "source": [
        "import random\n",
        "\n",
        "def roll_die():\n",
        "    return random.randint(1, 6)\n",
        "\n",
        "outcome = roll_die()\n",
        "print(f\"The die rolled a: {outcome}\")\n"
      ]
    }
  ]
}