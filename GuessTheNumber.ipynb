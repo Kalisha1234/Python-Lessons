{
  "nbformat": 4,
  "nbformat_minor": 0,
  "metadata": {
    "colab": {
      "provenance": [],
      "authorship_tag": "ABX9TyO4dGP9sC3nButvnf713mTT",
      "include_colab_link": true
    },
    "kernelspec": {
      "name": "python3",
      "display_name": "Python 3"
    },
    "language_info": {
      "name": "python"
    }
  },
  "cells": [
    {
      "cell_type": "markdown",
      "metadata": {
        "id": "view-in-github",
        "colab_type": "text"
      },
      "source": [
        "<a href=\"https://colab.research.google.com/github/Kalisha1234/Python-Lessons/blob/main/GuessTheNumber.ipynb\" target=\"_parent\"><img src=\"https://colab.research.google.com/assets/colab-badge.svg\" alt=\"Open In Colab\"/></a>"
      ]
    },
    {
      "cell_type": "code",
      "execution_count": 32,
      "metadata": {
        "id": "Y2XDlQxPmBvt"
      },
      "outputs": [],
      "source": [
        "\n"
      ]
    },
    {
      "cell_type": "code",
      "source": [
        "\n",
        "import random\n",
        "ranNum = (random.randrange(0, 21))\n",
        "while True:\n",
        "  Num = int(input(\"Enter a number between 1 and 20: \"))\n",
        "  if Num == ranNum:\n",
        "    print(\"Correct Guess\")\n",
        "    break\n",
        "  else:\n",
        "    print(\"Wrong Guess\")\n"
      ],
      "metadata": {
        "colab": {
          "base_uri": "https://localhost:8080/"
        },
        "id": "JmmbV9tRxFtX",
        "outputId": "81408e8f-03e9-4924-b3f6-6fcd99c6a1f0"
      },
      "execution_count": 32,
      "outputs": [
        {
          "output_type": "stream",
          "name": "stdout",
          "text": [
            "Enter a number between 1 and 20: 3\n",
            "Wrong Guess\n",
            "Enter a number between 1 and 20: 4\n",
            "Wrong Guess\n",
            "Enter a number between 1 and 20: 2\n",
            "Wrong Guess\n",
            "Enter a number between 1 and 20: 18\n",
            "Wrong Guess\n",
            "Enter a number between 1 and 20: 1\n",
            "Correct Guess\n"
          ]
        }
      ]
    },
    {
      "cell_type": "code",
      "source": [],
      "metadata": {
        "id": "OmtIoYbYxuIO"
      },
      "execution_count": null,
      "outputs": []
    }
  ]
}