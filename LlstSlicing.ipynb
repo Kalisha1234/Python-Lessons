{
  "nbformat": 4,
  "nbformat_minor": 0,
  "metadata": {
    "colab": {
      "provenance": [],
      "authorship_tag": "ABX9TyPyv3cecJnVPIjQoUDJKQSN",
      "include_colab_link": true
    },
    "kernelspec": {
      "name": "python3",
      "display_name": "Python 3"
    },
    "language_info": {
      "name": "python"
    }
  },
  "cells": [
    {
      "cell_type": "markdown",
      "metadata": {
        "id": "view-in-github",
        "colab_type": "text"
      },
      "source": [
        "<a href=\"https://colab.research.google.com/github/Kalisha1234/Python-Lessons/blob/main/LlstSlicing.ipynb\" target=\"_parent\"><img src=\"https://colab.research.google.com/assets/colab-badge.svg\" alt=\"Open In Colab\"/></a>"
      ]
    },
    {
      "cell_type": "code",
      "execution_count": 1,
      "metadata": {
        "colab": {
          "base_uri": "https://localhost:8080/"
        },
        "id": "G44MV-BxCpSs",
        "outputId": "3cd02b19-ea27-4e68-cb33-e8adc87a4745"
      },
      "outputs": [
        {
          "output_type": "execute_result",
          "data": {
            "text/plain": [
              "['Programming with Python']"
            ]
          },
          "metadata": {},
          "execution_count": 1
        }
      ],
      "source": [
        "test = \"Programming with Python\"\n",
        "sliced = test.split(\",\")\n",
        "sliced"
      ]
    },
    {
      "cell_type": "code",
      "source": [
        "\n",
        "print(test.split())"
      ],
      "metadata": {
        "colab": {
          "base_uri": "https://localhost:8080/"
        },
        "id": "XCKrg0k8DWIl",
        "outputId": "3acf8a56-702a-4ebf-c2a2-54b26f2cb545"
      },
      "execution_count": 2,
      "outputs": [
        {
          "output_type": "stream",
          "name": "stdout",
          "text": [
            "['Programming', 'with', 'Python']\n"
          ]
        }
      ]
    },
    {
      "cell_type": "code",
      "source": [
        "fruits = ['apple', 'orange', 'mango',['strawberry', 'cranberry','berry'], 'banana']\n",
        "fruits[1::]"
      ],
      "metadata": {
        "colab": {
          "base_uri": "https://localhost:8080/"
        },
        "id": "199BVaoKDdhN",
        "outputId": "d8a5029c-118d-4a4e-dfa1-86b7e519a64d"
      },
      "execution_count": 3,
      "outputs": [
        {
          "output_type": "execute_result",
          "data": {
            "text/plain": [
              "['orange', 'mango', ['strawberry', 'cranberry', 'berry'], 'banana']"
            ]
          },
          "metadata": {},
          "execution_count": 3
        }
      ]
    }
  ]
}