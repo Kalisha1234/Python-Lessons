{
  "nbformat": 4,
  "nbformat_minor": 0,
  "metadata": {
    "colab": {
      "provenance": [],
      "authorship_tag": "ABX9TyMBW4sDkGOdbXOuPe0SOvTg",
      "include_colab_link": true
    },
    "kernelspec": {
      "name": "python3",
      "display_name": "Python 3"
    },
    "language_info": {
      "name": "python"
    }
  },
  "cells": [
    {
      "cell_type": "markdown",
      "metadata": {
        "id": "view-in-github",
        "colab_type": "text"
      },
      "source": [
        "<a href=\"https://colab.research.google.com/github/Kalisha1234/Python-Lessons/blob/main/wordcloud.ipynb\" target=\"_parent\"><img src=\"https://colab.research.google.com/assets/colab-badge.svg\" alt=\"Open In Colab\"/></a>"
      ]
    },
    {
      "cell_type": "code",
      "execution_count": 8,
      "metadata": {
        "id": "SZYIPl0veBWu"
      },
      "outputs": [],
      "source": [
        "import requests, re, string, nltk\n",
        "from bs4 import BeautifulSoup\n",
        "from nltk.corpus import stopwords\n",
        "from wordcloud import WordCloud\n",
        "import matplotlib.pyplot as plt"
      ]
    },
    {
      "cell_type": "code",
      "source": [
        "nltk.download('stopwords')\n",
        "stop_words = set(stopwords.words('english'))"
      ],
      "metadata": {
        "colab": {
          "base_uri": "https://localhost:8080/"
        },
        "id": "myrqqGjueEPp",
        "outputId": "df626c11-a0ce-44dd-852d-6fef99d58fbc"
      },
      "execution_count": 9,
      "outputs": [
        {
          "output_type": "stream",
          "name": "stderr",
          "text": [
            "[nltk_data] Downloading package stopwords to /root/nltk_data...\n",
            "[nltk_data]   Package stopwords is already up-to-date!\n"
          ]
        }
      ]
    },
    {
      "cell_type": "code",
      "source": [
        "url = \"http://quotes.toscrape.com\"\n",
        "response = requests.get(url)"
      ],
      "metadata": {
        "id": "WLKDxLC1eG7Y"
      },
      "execution_count": 10,
      "outputs": []
    },
    {
      "cell_type": "code",
      "source": [
        "if response.status_code != 200:\n",
        "  print(\"Failed to fetch the webpage\"); exit()"
      ],
      "metadata": {
        "id": "wTw6u3mLeNWT"
      },
      "execution_count": 11,
      "outputs": []
    },
    {
      "cell_type": "code",
      "source": [
        "soup = BeautifulSoup(response.text, 'html.parser')\n",
        "text = soup.get_text().lower()\n",
        "text = re.sub(r'\\d+', '', text.translate(str.maketrans('', '', string.punctuation)))\n",
        "words = [w for w in text.split() if w not in stop_words]"
      ],
      "metadata": {
        "id": "PTrs288veSm2"
      },
      "execution_count": 12,
      "outputs": []
    },
    {
      "cell_type": "code",
      "source": [
        "WordCloud(width=800, height=400, background_color='white')\\\n",
        ".generate(' '.join(words)).to_image().show()"
      ],
      "metadata": {
        "id": "7DA2gp3keXsY"
      },
      "execution_count": 16,
      "outputs": []
    }
  ]
}