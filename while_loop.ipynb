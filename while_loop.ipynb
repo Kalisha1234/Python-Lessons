{
  "nbformat": 4,
  "nbformat_minor": 0,
  "metadata": {
    "colab": {
      "provenance": [],
      "authorship_tag": "ABX9TyNVfOgl7XgzIjDPWp4W7uGH",
      "include_colab_link": true
    },
    "kernelspec": {
      "name": "python3",
      "display_name": "Python 3"
    },
    "language_info": {
      "name": "python"
    }
  },
  "cells": [
    {
      "cell_type": "markdown",
      "metadata": {
        "id": "view-in-github",
        "colab_type": "text"
      },
      "source": [
        "<a href=\"https://colab.research.google.com/github/Kalisha1234/Python-Lessons/blob/main/while_loop.ipynb\" target=\"_parent\"><img src=\"https://colab.research.google.com/assets/colab-badge.svg\" alt=\"Open In Colab\"/></a>"
      ]
    },
    {
      "cell_type": "code",
      "execution_count": 2,
      "metadata": {
        "colab": {
          "base_uri": "https://localhost:8080/"
        },
        "id": "h-oUykMrGumk",
        "outputId": "b23309c8-d855-4153-9cb0-a18dcb3f98ca"
      },
      "outputs": [
        {
          "output_type": "stream",
          "name": "stdout",
          "text": [
            "value is:  0\n",
            "value is:  1\n",
            "value is:  2\n",
            "value is:  3\n"
          ]
        }
      ],
      "source": [
        "n =0\n",
        "while n <= 7:\n",
        "    print(\"value is: \", n)\n",
        "    n +=1\n",
        "    if n == 4:\n",
        "        break"
      ]
    }
  ]
}