{
  "nbformat": 4,
  "nbformat_minor": 0,
  "metadata": {
    "colab": {
      "provenance": [],
      "authorship_tag": "ABX9TyM7XGzi7BRwjlyYyR5am9aL",
      "include_colab_link": true
    },
    "kernelspec": {
      "name": "python3",
      "display_name": "Python 3"
    },
    "language_info": {
      "name": "python"
    }
  },
  "cells": [
    {
      "cell_type": "markdown",
      "metadata": {
        "id": "view-in-github",
        "colab_type": "text"
      },
      "source": [
        "<a href=\"https://colab.research.google.com/github/Kalisha1234/Python-Lessons/blob/main/hashing.ipynb\" target=\"_parent\"><img src=\"https://colab.research.google.com/assets/colab-badge.svg\" alt=\"Open In Colab\"/></a>"
      ]
    },
    {
      "cell_type": "code",
      "execution_count": 1,
      "metadata": {
        "colab": {
          "base_uri": "https://localhost:8080/"
        },
        "id": "m8mwSC6pjSPD",
        "outputId": "9b590b65-2c9e-4604-dca5-cb3eff55a86c"
      },
      "outputs": [
        {
          "output_type": "stream",
          "name": "stdout",
          "text": [
            "Hash Set Test Result: False\n",
            "Searching in the Hash Set Took: 0.0005106925964355469\n",
            "List Test Result: False\n",
            "Searching in the List Took: 0.09366607666015625\n"
          ]
        }
      ],
      "source": [
        "# Define a function to demonstrate the operation and time complexity of a hash set\n",
        "def hash_set_operations():\n",
        "\n",
        "    # Importing the necessary libraries\n",
        "    import time\n",
        "\n",
        "    # Create a hash set and a list\n",
        "    hash_set = set()\n",
        "    list_data = []\n",
        "\n",
        "    # Setting the range for the data elements\n",
        "    data_range = 10**7\n",
        "\n",
        "    # Adding elements to the hash set and the list\n",
        "    for i in range(data_range):\n",
        "        hash_set.add(i)\n",
        "        list_data.append(i)\n",
        "\n",
        "    # Define a test element\n",
        "    test_element = data_range + 1\n",
        "\n",
        "    # Start the clock and check for the presence of the test elements\n",
        "    start_time = time.time()\n",
        "    print(\"Hash Set Test Result:\", test_element in hash_set)\n",
        "    print(\"Searching in the Hash Set Took:\", time.time() - start_time)\n",
        "\n",
        "    # Start the clock and check for the presence of the test elements in the list\n",
        "    start_time = time.time()\n",
        "    print(\"List Test Result:\", test_element in list_data)\n",
        "    print(\"Searching in the List Took:\", time.time() - start_time)\n",
        "\n",
        "# Call the function\n",
        "\n",
        "\n",
        "hash_set_operations()"
      ]
    }
  ]
}