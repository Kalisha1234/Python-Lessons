{
  "nbformat": 4,
  "nbformat_minor": 0,
  "metadata": {
    "colab": {
      "provenance": [],
      "authorship_tag": "ABX9TyPKGXWy4slaW3+pwT5rE5u7",
      "include_colab_link": true
    },
    "kernelspec": {
      "name": "python3",
      "display_name": "Python 3"
    },
    "language_info": {
      "name": "python"
    }
  },
  "cells": [
    {
      "cell_type": "markdown",
      "metadata": {
        "id": "view-in-github",
        "colab_type": "text"
      },
      "source": [
        "<a href=\"https://colab.research.google.com/github/Kalisha1234/Python-Lessons/blob/main/floyds_triangle.ipynb\" target=\"_parent\"><img src=\"https://colab.research.google.com/assets/colab-badge.svg\" alt=\"Open In Colab\"/></a>"
      ]
    },
    {
      "cell_type": "code",
      "execution_count": 1,
      "metadata": {
        "colab": {
          "base_uri": "https://localhost:8080/"
        },
        "id": "h-oUykMrGumk",
        "outputId": "b9a99b01-7ef0-4cfd-cae7-0247135edba6"
      },
      "outputs": [
        {
          "output_type": "stream",
          "name": "stdout",
          "text": [
            "o \n",
            "o o \n",
            "o o o \n",
            "o o o o \n",
            "o o o o o \n",
            "o o o o o o \n",
            "o o o o o o o \n",
            "o o o o o o o o \n",
            "o o o o o o o o o \n",
            "o o o o o o o o o o \n",
            "o o o o o o o o o o o \n"
          ]
        }
      ],
      "source": [
        "def floyd_triangle(n):\n",
        "    num = 0\n",
        "    for i in range(1, n + 2):\n",
        "        for j in range(1, i + 1):\n",
        "            print(chr(111 ), end = \" \")\n",
        "            num +=1\n",
        "        print()\n",
        "\n",
        "floyd_triangle(10)"
      ]
    }
  ]
}