{
  "nbformat": 4,
  "nbformat_minor": 0,
  "metadata": {
    "colab": {
      "provenance": [],
      "authorship_tag": "ABX9TyPV3rYQv70x3aDQIemZTQcP",
      "include_colab_link": true
    },
    "kernelspec": {
      "name": "python3",
      "display_name": "Python 3"
    },
    "language_info": {
      "name": "python"
    }
  },
  "cells": [
    {
      "cell_type": "markdown",
      "metadata": {
        "id": "view-in-github",
        "colab_type": "text"
      },
      "source": [
        "<a href=\"https://colab.research.google.com/github/Kalisha1234/Python-Lessons/blob/main/Untitled15.ipynb\" target=\"_parent\"><img src=\"https://colab.research.google.com/assets/colab-badge.svg\" alt=\"Open In Colab\"/></a>"
      ]
    },
    {
      "cell_type": "code",
      "execution_count": 8,
      "metadata": {
        "id": "VueM3SvqfgOK"
      },
      "outputs": [],
      "source": [
        "import sqlite3"
      ]
    },
    {
      "cell_type": "code",
      "source": [
        "connection = sqlite3.connect('Drugs.db')"
      ],
      "metadata": {
        "id": "dwsp0tfUgaGA"
      },
      "execution_count": 9,
      "outputs": []
    },
    {
      "cell_type": "code",
      "source": [
        "# Create a cursor object\n",
        "c = connection.cursor()\n",
        "\n",
        "# Create a table\n",
        "c.execute('''\n",
        "    CREATE TABLE Med (\n",
        "        id INTEGER PRIMARY KEY,\n",
        "        DrugName TEXT NOT NULL,\n",
        "        AvailableQuantity TEXT NOT NULL\n",
        "    )\n",
        "''')\n",
        "\n",
        "# Save (commit) the changes\n",
        "connection.commit()"
      ],
      "metadata": {
        "id": "UQm0dWjCiJU-"
      },
      "execution_count": 10,
      "outputs": []
    },
    {
      "cell_type": "code",
      "source": [
        "# Insert a new drug\n",
        "c.execute('''\n",
        "    INSERT INTO Med (DrugName, AvailableQuantity )\n",
        "    VALUES ('Paracetamol', 300),\n",
        "    ('Omeperazole', 5000),\n",
        "    ('Acetaminophen', 400),\n",
        "    ('Paracetamol',5000),\n",
        "    ('Nugel O', 3000),\n",
        "    ('Ibuprofen', 700),\n",
        "    ('Amoxicillin', 1000),\n",
        "    ('Vitamin C', 3000)\n",
        "''')\n",
        "\n",
        "# Save (commit) the changes\n",
        "connection.commit()"
      ],
      "metadata": {
        "id": "9988NgMki9g7"
      },
      "execution_count": 11,
      "outputs": []
    },
    {
      "cell_type": "code",
      "source": [
        "# Query the database\n",
        "c.execute('SELECT * FROM Med')\n",
        "\n",
        "# Fetch and print the results\n",
        "for row in c:\n",
        "    print(row)"
      ],
      "metadata": {
        "id": "n4ltiD0GkYKE",
        "outputId": "2f8b80e9-5e96-4847-f107-b2938c7a6900",
        "colab": {
          "base_uri": "https://localhost:8080/"
        }
      },
      "execution_count": 12,
      "outputs": [
        {
          "output_type": "stream",
          "name": "stdout",
          "text": [
            "(1, 'Paracetamol', '300')\n",
            "(2, 'Omeperazole', '5000')\n",
            "(3, 'Acetaminophen', '400')\n",
            "(4, 'Paracetamol', '5000')\n",
            "(5, 'Nugel O', '3000')\n",
            "(6, 'Ibuprofen', '700')\n",
            "(7, 'Amoxicillin', '1000')\n",
            "(8, 'Vitamin C', '3000')\n"
          ]
        }
      ]
    },
    {
      "cell_type": "code",
      "source": [
        "# Delete a user\n",
        "c.execute('''\n",
        "    DELETE FROM Med\n",
        "    WHERE DrugName = 'Nugel O'\n",
        "''')\n",
        "\n",
        "# Save (commit) the changes\n",
        "connection.commit()"
      ],
      "metadata": {
        "id": "ZZz2BjwwnEHq"
      },
      "execution_count": 13,
      "outputs": []
    },
    {
      "cell_type": "code",
      "source": [
        "# Query the database\n",
        "c.execute('SELECT * FROM Med')\n",
        "\n",
        "# Fetch and print the results\n",
        "for row in c:\n",
        "    print(row)"
      ],
      "metadata": {
        "id": "Ks_W5c-LnNCL",
        "outputId": "a34f450f-d70a-4e47-999f-6da5e0ee6308",
        "colab": {
          "base_uri": "https://localhost:8080/"
        }
      },
      "execution_count": 14,
      "outputs": [
        {
          "output_type": "stream",
          "name": "stdout",
          "text": [
            "(1, 'Paracetamol', '300')\n",
            "(2, 'Omeperazole', '5000')\n",
            "(3, 'Acetaminophen', '400')\n",
            "(4, 'Paracetamol', '5000')\n",
            "(6, 'Ibuprofen', '700')\n",
            "(7, 'Amoxicillin', '1000')\n",
            "(8, 'Vitamin C', '3000')\n"
          ]
        }
      ]
    },
    {
      "cell_type": "code",
      "source": [],
      "metadata": {
        "id": "3PvkIHPvnRLk"
      },
      "execution_count": null,
      "outputs": []
    }
  ]
}