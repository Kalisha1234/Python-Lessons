{
  "nbformat": 4,
  "nbformat_minor": 0,
  "metadata": {
    "colab": {
      "provenance": [],
      "authorship_tag": "ABX9TyNSdgiSTz5Dj5abTKNxpaag",
      "include_colab_link": true
    },
    "kernelspec": {
      "name": "python3",
      "display_name": "Python 3"
    },
    "language_info": {
      "name": "python"
    }
  },
  "cells": [
    {
      "cell_type": "markdown",
      "metadata": {
        "id": "view-in-github",
        "colab_type": "text"
      },
      "source": [
        "<a href=\"https://colab.research.google.com/github/Kalisha1234/Python-Lessons/blob/main/temperatures.ipynb\" target=\"_parent\"><img src=\"https://colab.research.google.com/assets/colab-badge.svg\" alt=\"Open In Colab\"/></a>"
      ]
    },
    {
      "cell_type": "code",
      "execution_count": 1,
      "metadata": {
        "colab": {
          "base_uri": "https://localhost:8080/"
        },
        "id": "bJQW4SQmtfKi",
        "outputId": "0da8c036-b740-4764-f361-10b601e968bd"
      },
      "outputs": [
        {
          "name": "stdout",
          "output_type": "stream",
          "text": [
            "Enter temperature: 37\n",
            "Enter unit (C for Celsius, F for Fahrenheit, K for Kelvin): c\n",
            "37.0 degrees Celsius is equal to 98.60 degrees Fahrenheit and 310.15 Kelvin.\n",
            "Do you want to perform another conversion? (yes/no): no\n"
          ]
        }
      ],
      "source": [
        "\n",
        "def celsius_to_fahrenheit(celsius):\n",
        "  return (celsius * 9/5) + 32\n",
        "\n",
        "def celsius_to_kelvin(celsius):\n",
        "  \"\"\"Converts Celsius to Kelvin.\"\"\"\n",
        "  return celsius + 273.15\n",
        "\n",
        "def fahrenheit_to_celsius(fahrenheit):\n",
        "  return (fahrenheit - 32) * 5/9\n",
        "\n",
        "def fahrenheit_to_kelvin(fahrenheit):\n",
        "  return (fahrenheit + 459.67) * 5/9\n",
        "\n",
        "def kelvin_to_celsius(kelvin):\n",
        "  return kelvin - 273.15\n",
        "\n",
        "def kelvin_to_fahrenheit(kelvin):\n",
        "  return (kelvin * 9/5) - 459.67\n",
        "\n",
        "def main():\n",
        "  while True:\n",
        "    temperature = float(input(\"Enter temperature: \"))\n",
        "    unit = input(\"Enter unit (C for Celsius, F for Fahrenheit, K for Kelvin): \").upper()\n",
        "\n",
        "    if unit == \"C\":\n",
        "      fahrenheit = celsius_to_fahrenheit(temperature)\n",
        "      kelvin = celsius_to_kelvin(temperature)\n",
        "      print(f\"{temperature} degrees Celsius is equal to {fahrenheit:.2f} degrees Fahrenheit and {kelvin:.2f} Kelvin.\")\n",
        "    elif unit == \"F\":\n",
        "      celsius = fahrenheit_to_celsius(temperature)\n",
        "      kelvin = fahrenheit_to_kelvin(temperature)\n",
        "      print(f\"{temperature} degrees Fahrenheit is equal to {celsius:.2f} degrees Celsius and {kelvin:.2f} Kelvin.\")\n",
        "    elif unit == \"K\":\n",
        "      celsius = kelvin_to_celsius(temperature)\n",
        "      fahrenheit = kelvin_to_fahrenheit(temperature)\n",
        "      print(f\"{temperature} Kelvin is equal to {celsius:.2f} degrees Celsius and {fahrenheit:.2f} degrees Fahrenheit.\")\n",
        "    else:\n",
        "      print(\"Invalid unit. Please enter C, F, or K.\")\n",
        "\n",
        "    another_conversion = input(\"Do you want to perform another conversion? (yes/no): \").lower()\n",
        "    if another_conversion != \"yes\":\n",
        "      break\n",
        "\n",
        "if __name__ == \"__main__\":\n",
        "  main()\n"
      ]
    }
  ]
}